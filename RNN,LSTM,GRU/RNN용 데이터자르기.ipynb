{
 "cells": [
  {
   "cell_type": "code",
   "execution_count": 2,
   "source": [
    "import numpy as np"
   ],
   "outputs": [],
   "metadata": {}
  },
  {
   "cell_type": "markdown",
   "source": [
    "## 다:1 split 함수  \r\n",
    "  \r\n",
    "ex)  \r\n",
    "np.array([1,2,3,4,5,6,7,8,9,10])  \r\n",
    "x&nbsp;&nbsp;&nbsp;&nbsp;&nbsp;&nbsp;&nbsp;&nbsp;&nbsp;&nbsp;&nbsp;&nbsp;&nbsp;&nbsp;y  \r\n",
    "1,2,3,4&nbsp;&nbsp;&nbsp;&nbsp;&nbsp;5  \r\n",
    "2,3,4,5&nbsp;&nbsp;&nbsp;&nbsp;&nbsp;6  \r\n",
    "3,4,5,6&nbsp;&nbsp;&nbsp;&nbsp;&nbsp;7  \r\n",
    "4,5,6,7&nbsp;&nbsp;&nbsp;&nbsp;&nbsp;8  \r\n",
    "5,6,7,8&nbsp;&nbsp;&nbsp;&nbsp;&nbsp;9  \r\n",
    "6,7,8,9&nbsp;&nbsp;&nbsp;&nbsp;&nbsp;10  "
   ],
   "metadata": {}
  },
  {
   "cell_type": "code",
   "execution_count": 3,
   "source": [
    "def split_xy1(dataset, time_steps):\r\n",
    "    x, y = list(), list()\r\n",
    "    for i in range(len(dataset)):\r\n",
    "        end_number = i + time_steps\r\n",
    "        if end_number > len(dataset) -1:\r\n",
    "            break\r\n",
    "        tmp_x, tmp_y = dataset[i:end_number], dataset[end_number]\r\n",
    "        x.append(tmp_x)\r\n",
    "        y.append(tmp_y)\r\n",
    "    return np.array(x), np.array(y)\r\n",
    "    "
   ],
   "outputs": [],
   "metadata": {}
  },
  {
   "cell_type": "markdown",
   "source": [
    "## 다:다 split 함수\r\n",
    "ex)  \r\n",
    "np.array([1,2,3,4,5,6,7,8,9,10])  \r\n",
    "x&nbsp;&nbsp;&nbsp;&nbsp;&nbsp;&nbsp;&nbsp;&nbsp;&nbsp;&nbsp;&nbsp;&nbsp;&nbsp;y  \r\n",
    "1,2,3,4&nbsp;&nbsp;&nbsp;&nbsp;5,6  \r\n",
    "2,3,4,5&nbsp;&nbsp;&nbsp;&nbsp;6,7  \r\n",
    "3,4,5,6&nbsp;&nbsp;&nbsp;&nbsp;8,9  \r\n",
    "4,5,6,7&nbsp;&nbsp;&nbsp;&nbsp;9,10   "
   ],
   "metadata": {}
  },
  {
   "cell_type": "code",
   "execution_count": null,
   "source": [
    "def split_xy2(dataset,time_steps,y_column):\r\n",
    "    x,y = list(), list()\r\n",
    "    for i in range(len(dataset)):\r\n",
    "        x_end_number = i + time_steps\r\n",
    "        y_end_number = x_end_number + y_column\r\n",
    "        if y_end_number > len(dataset):\r\n",
    "            break\r\n",
    "        tmp_x = dataset[i : x_end_number]\r\n",
    "        tmp_y = dataset[x_end_number : y_end_number]\r\n",
    "        x.append(tmp_x)\r\n",
    "        y.append(tmp_y)\r\n",
    "    return np.array(x), np.array(y)\r\n",
    "            "
   ],
   "outputs": [],
   "metadata": {}
  },
  {
   "cell_type": "markdown",
   "source": [
    "## 다입력, 다:1 split 함수\r\n",
    "ex)  \r\n",
    "x&nbsp;&nbsp;&nbsp;&nbsp;&nbsp;&nbsp;&nbsp;&nbsp;&nbsp;y  \r\n",
    "**1**&nbsp;**11**&nbsp;&nbsp;&nbsp;21  \r\n",
    "**2**&nbsp;**12**&nbsp;&nbsp;&nbsp;22  \r\n",
    "**3**&nbsp;**13**&nbsp;&nbsp;&nbsp;**23**  \r\n",
    "4&nbsp;14&nbsp;&nbsp;&nbsp;24  \r\n",
    "5&nbsp;15&nbsp;&nbsp;&nbsp;25  \r\n",
    "6&nbsp;16&nbsp;&nbsp;&nbsp;26  \r\n"
   ],
   "metadata": {}
  },
  {
   "cell_type": "code",
   "execution_count": null,
   "source": [
    "def split_xy3(dataset, time_steps, y_column):\r\n",
    "    x, y = list(), list()\r\n",
    "    for i in range(len(dataset)):\r\n",
    "        x_end_number = i + time_steps\r\n",
    "        y_end_number = x_end_number + y_column -1\r\n",
    "        \r\n",
    "        if y_end_number > len(dataset):\r\n",
    "            break\r\n",
    "        tmp_x = dataset[i:x_end_number, :-1]\r\n",
    "        tmp_y = dataset[x_end_number-1 : y_end_number,-1]\r\n",
    "        x.append(tmp_x)\r\n",
    "        y.append(tmp_y)\r\n",
    "    return np.array(x), np.array(y)"
   ],
   "outputs": [],
   "metadata": {}
  },
  {
   "cell_type": "markdown",
   "source": [
    "## 다입력, 다:다 split 함수  \r\n",
    "\r\n",
    "ex)  \r\n",
    "x&nbsp;&nbsp;&nbsp;&nbsp;&nbsp;&nbsp;&nbsp;&nbsp;&nbsp;y  \r\n",
    "**1**&nbsp;**11**&nbsp;&nbsp;&nbsp;21  \r\n",
    "**2**&nbsp;**12**&nbsp;&nbsp;&nbsp;22  \r\n",
    "**3**&nbsp;**13**&nbsp;&nbsp;&nbsp;**23**  \r\n",
    "4&nbsp;14&nbsp;&nbsp;&nbsp;**24**  \r\n",
    "5&nbsp;15&nbsp;&nbsp;&nbsp;25  \r\n",
    "6&nbsp;16&nbsp;&nbsp;&nbsp;26  "
   ],
   "metadata": {}
  },
  {
   "cell_type": "code",
   "execution_count": null,
   "source": [
    "def split_xy3(dataset, time_steps, y_column):\r\n",
    "    x, y = list(), list()\r\n",
    "    for i in range(len(dataset)):\r\n",
    "        x_end_number = i + time_steps\r\n",
    "        y_end_number = x_end_number + y_column -1\r\n",
    "        \r\n",
    "        if y_end_number > len(dataset):\r\n",
    "            break\r\n",
    "        tmp_x = dataset[i:x_end_number, :-1]\r\n",
    "        tmp_y = dataset[x_end_number-1 : y_end_number,-1]\r\n",
    "        x.append(tmp_x)\r\n",
    "        y.append(tmp_y)\r\n",
    "    return np.array(x), np.array(y)\r\n",
    "\r\n",
    "#위와 동일. y_column의 숫자만 바꿔주면 된다."
   ],
   "outputs": [],
   "metadata": {}
  },
  {
   "cell_type": "markdown",
   "source": [
    "## 다입력, 다:다 split 두번째  \r\n",
    "\r\n",
    "ex)   \r\n",
    "\r\n",
    "**1&nbsp;11&nbsp;21**&nbsp;&nbsp;&nbsp;&nbsp;&nbsp;x  \r\n",
    "**2&nbsp;12&nbsp;22**&nbsp;&nbsp;&nbsp;&nbsp;&nbsp;x  \r\n",
    "**3&nbsp;13&nbsp;23**&nbsp;&nbsp;&nbsp;&nbsp;&nbsp;x  \r\n",
    "**4&nbsp;14&nbsp;24**&nbsp;&nbsp;&nbsp;&nbsp;&nbsp;y  \r\n",
    "5&nbsp;15&nbsp;25  \r\n",
    "6&nbsp;16&nbsp;26  \r\n",
    "\r\n",
    "즉 위의 3줄로 아래 한줄을 예측하는 케이스"
   ],
   "metadata": {}
  },
  {
   "cell_type": "code",
   "execution_count": null,
   "source": [
    "def split_xy5(dataset, time_steps, y_column):\r\n",
    "    x, y = list(), list()\r\n",
    "    for i in range(len(dataset)):\r\n",
    "        x_end_number = i + time_steps\r\n",
    "        y_end_number = x_end_number + y_column\r\n",
    "\r\n",
    "        if y_end_number > len(dataset):\r\n",
    "            break\r\n",
    "        tmp_x = dataset[i:x_end_number, : ]\r\n",
    "        tmp_y = dataset[x_end_number:y_end_number, : ]\r\n",
    "        x.append(tmp_x)\r\n",
    "        y.append(tmp_y)\r\n",
    "    return np.array(x), np.array(y)"
   ],
   "outputs": [],
   "metadata": {}
  },
  {
   "cell_type": "markdown",
   "source": [
    "## 다입력, 다:다 split 두번째  \r\n",
    "\r\n",
    "ex)   \r\n",
    "\r\n",
    "**1&nbsp;11&nbsp;21**&nbsp;&nbsp;&nbsp;&nbsp;&nbsp;x  \r\n",
    "**2&nbsp;12&nbsp;22**&nbsp;&nbsp;&nbsp;&nbsp;&nbsp;x  \r\n",
    "**3&nbsp;13&nbsp;23**&nbsp;&nbsp;&nbsp;&nbsp;&nbsp;x  \r\n",
    "**4&nbsp;14&nbsp;24**&nbsp;&nbsp;&nbsp;&nbsp;&nbsp;y  \r\n",
    "**5&nbsp;15&nbsp;25**&nbsp;&nbsp;&nbsp;&nbsp;&nbsp;y  \r\n",
    "6&nbsp;16&nbsp;26  \r\n",
    "\r\n",
    "즉 위의 3줄로 아래 2줄을 예측하는 케이스"
   ],
   "metadata": {}
  },
  {
   "cell_type": "code",
   "execution_count": null,
   "source": [
    "def split_xy5(dataset, time_steps, y_column):\r\n",
    "    x, y = list(), list()\r\n",
    "    for i in range(len(dataset)):\r\n",
    "        x_end_number = i + time_steps\r\n",
    "        y_end_number = x_end_number + y_column\r\n",
    "\r\n",
    "        if y_end_number > len(dataset):\r\n",
    "            break\r\n",
    "        tmp_x = dataset[i:x_end_number, : ]\r\n",
    "        tmp_y = dataset[x_end_number:y_end_number, : ]\r\n",
    "        x.append(tmp_x)\r\n",
    "        y.append(tmp_y)\r\n",
    "    return np.array(x), np.array(y)\r\n",
    "\r\n",
    "#위와 동일. y_column의 숫자만 바꿔주면 된다."
   ],
   "outputs": [],
   "metadata": {}
  }
 ],
 "metadata": {
  "orig_nbformat": 4,
  "language_info": {
   "name": "python",
   "version": "3.8.10",
   "mimetype": "text/x-python",
   "codemirror_mode": {
    "name": "ipython",
    "version": 3
   },
   "pygments_lexer": "ipython3",
   "nbconvert_exporter": "python",
   "file_extension": ".py"
  },
  "kernelspec": {
   "name": "python3",
   "display_name": "Python 3.8.10 64-bit ('bit-python38': conda)"
  },
  "interpreter": {
   "hash": "0ce0cc4a6c01c184f4204f1b5bce2bca42bb38b778cee14e73ac5a9079375ae8"
  }
 },
 "nbformat": 4,
 "nbformat_minor": 2
}